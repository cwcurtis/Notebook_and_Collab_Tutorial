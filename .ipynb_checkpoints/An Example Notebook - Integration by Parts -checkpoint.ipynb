{
 "cells": [
  {
   "cell_type": "markdown",
   "metadata": {},
   "source": [
    "# Integration-by Parts\n",
    "\n",
    "## Theory \n",
    "So in this lesson, we are going to look at one of the workhorses of modern mathematics, which is a technqiue called _integration-by parts_.  This method starts from our beloved multiplication rule for differentiation which is given by \n",
    "\n",
    "$$\n",
    "\\frac{d}{dx}\\left(u(x)v(x) \\right) = v\\frac{du}{dx} + u\\frac{dv}{dx}\n",
    "$$\n",
    "\n",
    "If we now apply an indefinite integral to both sides of this equation, we get \n",
    "\n",
    "$$\n",
    "\\int \\frac{d}{dx}\\left(u(x)v(x) \\right) dx = \\int v\\frac{du}{dx} dx + \\int u\\frac{dv}{dx} dx\n",
    "$$\n",
    "\n",
    "Using the Fundamental Theorem of Calculus, we then get that \n",
    "\n",
    "$$\n",
    "u(x)v(x) + C = \\int v\\frac{du}{dx} dx + \\int u\\frac{dv}{dx} dx\n",
    "$$\n",
    "\n",
    "The formula we most commonly see in textbooks and elsewhere comes from rearranging the above equation so that it looks like \n",
    "$$\n",
    "\\int u\\frac{dv}{dx} dx = u(x)v(x) - \\int v\\frac{du}{dx} dx + C\n",
    "$$\n",
    "If we remember that using differentials, we can write \n",
    "$$\n",
    "dv = \\frac{dv}{dx} dx, ~ du = \\frac{du}{dx} dx\n",
    "$$\n",
    "Then we can write the _indefinite_ form of what we call the Integrate-by Parts formula.\n",
    "> **Integration-by Parts Formula (Indefinite)** : $$\n",
    "\\int u dv = u(x)v(x) - \\int v du + C\n",
    "$$\n",
    "\n",
    "If we are working with definite integrals, we use the similar formula \n",
    "> **Integration-by Parts Formula (Definite)** : $$\n",
    "\\int_{a}^{b} u\\frac{dv}{dx} dx = \\left.u(x)v(x)\\right|_{a}^{b} - \\int_{a}^{b} v\\frac{du}{dx} dx\n",
    "$$\n"
   ]
  },
  {
   "cell_type": "markdown",
   "metadata": {},
   "source": [
    "## Examples\n",
    "\n",
    "Okay, that was all cute, but now what?  So one of the first big uses of integration-by parts is that it lets us compute more complicated integrals than we might be able to find with just substitution alone.  For example, what if I asked you to find\n",
    "\n",
    "$$\n",
    "\\int xe^{x} dx = ?\n",
    "$$\n",
    "\n",
    "Well, the trick here is we want to identify a $u(x)$ and a $v(x)$.  But how should we do that?  First, we are going to try a way that does not lead to a clear result, and then we will show a way that does.  \n",
    "> **Circular Path**: So the way to produce an inconclusive result is to choose $u(x)=e^{x}$, which then implies\n",
    "$$\n",
    "\\frac{dv}{dx} = x, ~ v(x) = x^{2}/2\n",
    "$$\n",
    "In this case, using the indefinite form of the integration-by parts formula, we have that \n",
    "\\begin{align}\n",
    "\\int x e^{x} dx = & \\int e^{x} \\frac{d}{dx}\\left( \\frac{x^{2}}{2} \\right)dx \\\\\n",
    "= & \\frac{x^{2}}{2}e^{x} - \\int \\frac{x^{2}}{2}\\frac{d}{dx}\\left(e^{x}\\right) dx + C,\\\\\n",
    "= & \\frac{x^{2}}{2}e^{x} - \\int \\frac{x^{2}}{2}e^{x} dx + C,\n",
    "\\end{align}\n",
    "where we have used in the integral on the right-hand side of the equality the fact that \n",
    "$$\n",
    "\\frac{d}{dx}e^{x} = e^{x}.\n",
    "$$\n",
    "So okay, we have not done anything wrong, but we also really have not come to an answer since we are left with the question of how to evaluate \n",
    "$$\n",
    "\\int \\frac{x^{2}}{2}e^{x} dx,\n",
    "$$\n",
    "which looks as hard if not harder than our original problem.  \n",
    "\n",
    "> **Direct Path**: So the way to produce a conclusive result is to choose $u(x)=x$.  Thus \n",
    "$$\n",
    "\\frac{d}{dx}v=e^{x}, ~ v(x) = e^{x}.\n",
    "$$\n",
    "In this case, using the indefinite form of the integration-by parts formula, we have that \n",
    "\\begin{align}\n",
    "\\int x e^{x} dx = & \\int x \\frac{d}{dx}\\left( e^{x} \\right)dx \\\\\n",
    "= & xe^{x} - \\int e^{x}\\frac{d}{dx}\\left(x \\right)dx + C \\\\\n",
    "= & xe^{x} - \\int e^{x} dx + C \\\\\n",
    "= & xe^{x} - e^{x} + C - \\tilde{C}\\\\\n",
    "= & e^{x}(x - 1) + \\bar{C},\n",
    "\\end{align}\n",
    "where we have used the facts that \n",
    "$$\n",
    "\\frac{d}{dx}x = 1, ~ \\int e^{x} dx = e^{x} + \\tilde{C},\n",
    "$$\n",
    "and since $C$ and $\\tilde{C}$ are arbitrary constants, we can relabel $C-\\tilde{C}$ as the arbitrary constant $\\bar{C}$.  \n",
    "\n",
    "So now we see that we have found an answer to our question via integration-by parts, which tells us \n",
    "\n",
    "$$\n",
    "\\int x e^{x} dx = e^{x}(x - 1) + C\n",
    "$$\n",
    "\n",
    "Now it's your turn :)"
   ]
  },
  {
   "cell_type": "markdown",
   "metadata": {},
   "source": [
    "### Student Work 1: \n",
    "\n",
    "Find $\\int x^{2}e^{x} dx$.  To help you, follow the steps below.     \n",
    "\n",
    "* Identify $u(x)$ and $dv/dx$.  From $dv/dx$ find $v(x)$.    \n",
    "* Apply the integration-by parts formula once.\n",
    "* Use the previous example to help you find the final answer.  \n",
    "\n",
    "Write your process in the Markdown box below.  "
   ]
  },
  {
   "cell_type": "markdown",
   "metadata": {},
   "source": [
    "**Write your answer here:**"
   ]
  },
  {
   "cell_type": "markdown",
   "metadata": {},
   "source": [
    "### Student Work 2: \n",
    "\n",
    "Find $\\int x^{3}e^{x} dx$.  To help you, follow the steps below.     \n",
    "\n",
    "* Identify $u(x)$ and $dv/dx$.  From $dv/dx$ find $v(x)$.    \n",
    "* Apply the integration-by parts formula once.\n",
    "* Use the previous example to help you find the final answer.  \n",
    "\n",
    "Write your process in the Markdown box below.  "
   ]
  },
  {
   "cell_type": "markdown",
   "metadata": {},
   "source": [
    "**Write your answer here:**"
   ]
  },
  {
   "cell_type": "markdown",
   "metadata": {},
   "source": [
    "### Student Work 3: \n",
    "\n",
    "Find $\\int x \\cos(x) dx$.  To help you, follow the steps below.     \n",
    "\n",
    "* Identify $u(x)$ and $dv/dx$.  From $dv/dx$ find $v(x)$.    \n",
    "* Apply the integration-by parts formula once.\n",
    "* Use the previous example to help you find the final answer.  \n",
    "\n",
    "Write your process in the Markdown box below.  "
   ]
  },
  {
   "cell_type": "markdown",
   "metadata": {},
   "source": [
    "**Write your answer here:**"
   ]
  },
  {
   "cell_type": "code",
   "execution_count": null,
   "metadata": {},
   "outputs": [],
   "source": []
  }
 ],
 "metadata": {
  "kernelspec": {
   "display_name": "Python 3",
   "language": "python",
   "name": "python3"
  },
  "language_info": {
   "codemirror_mode": {
    "name": "ipython",
    "version": 3
   },
   "file_extension": ".py",
   "mimetype": "text/x-python",
   "name": "python",
   "nbconvert_exporter": "python",
   "pygments_lexer": "ipython3",
   "version": "3.7.6"
  }
 },
 "nbformat": 4,
 "nbformat_minor": 4
}
